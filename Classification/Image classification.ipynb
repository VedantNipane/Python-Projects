{
 "cells": [
  {
   "cell_type": "markdown",
   "id": "49f4bcf2",
   "metadata": {},
   "source": [
    "# Project COSC 6324\n",
    "\n",
    "**`Objective: Build a system to classify an object of a RGB image`**\n",
    " \n",
    "## 1. Importing libraries and dataset"
   ]
  },
  {
   "cell_type": "code",
   "execution_count": 28,
   "id": "9873dfab",
   "metadata": {},
   "outputs": [],
   "source": [
    "import pandas as pd\n",
    "import numpy as np\n",
    "from sklearn.model_selection import train_test_split\n",
    "from tensorflow.keras.utils import to_categorical\n",
    "import tensorflow as tf\n",
    "from tensorflow.keras import layers, models\n",
    "import matplotlib.pyplot as plt"
   ]
  },
  {
   "cell_type": "markdown",
   "id": "02e2bc34",
   "metadata": {},
   "source": [
    "### Importing Data and labels"
   ]
  },
  {
   "cell_type": "code",
   "execution_count": 29,
   "id": "4c4d5691",
   "metadata": {},
   "outputs": [],
   "source": [
    "dataset=pd.read_csv(\"Data.csv\")\n",
    "y=pd.read_csv(\"classLabel.csv\")"
   ]
  },
  {
   "cell_type": "markdown",
   "metadata": {},
   "source": [
    "## 2. Preprocessing Procedures"
   ]
  },
  {
   "cell_type": "code",
   "execution_count": 30,
   "id": "ac9ee4ed",
   "metadata": {
    "scrolled": true
   },
   "outputs": [
    {
     "data": {
      "image/png": "[encoded data removed]",
      "text/plain": [
       "<Figure size 1000x500 with 1 Axes>"
      ]
     },
     "metadata": {},
     "output_type": "display_data"
    }
   ],
   "source": [
    "dataset.head()\n",
    "\n",
    "label_freq = y[0:].value_counts()\n",
    "# plot the series\n",
    "label_freq.plot(kind='bar', title='Label Frequency', xlabel='Label', ylabel='Frequency', figsize=(10, 5), rot=0, color='blue', width=0.5)\n",
    "plt.show()"
   ]
  },
  {
   "cell_type": "code",
   "execution_count": 31,
   "id": "c2cecc15",
   "metadata": {},
   "outputs": [
    {
     "data": {
      "text/plain": [
       "(9999, 3072)"
      ]
     },
     "execution_count": 31,
     "metadata": {},
     "output_type": "execute_result"
    }
   ],
   "source": [
    "dataset.shape"
   ]
  },
  {
   "cell_type": "markdown",
   "id": "6ad65c3c",
   "metadata": {},
   "source": [
    "### 2.1 Converting RGB Image into the grayscale image"
   ]
  },
  {
   "cell_type": "markdown",
   "metadata": {},
   "source": [
    "\n",
    "\n",
    "The purpose of this function is to convert a dataset into a list of black and white images. It takes a dataset as input, where each row represents an RGB image, and processes each row to create a black and white version of the image.\n"
   ]
  },
  {
   "cell_type": "code",
   "execution_count": 32,
   "id": "5fcef144",
   "metadata": {},
   "outputs": [],
   "source": [
    "import numpy as np\n",
    "lst=[]\n",
    "bw=[]\n",
    "for i in range(len(dataset)):\n",
    "    row = dataset.iloc[i]\n",
    "\n",
    "    rgb_image = np.array(row).reshape(32, 32, 3)\n",
    "    lst.append(rgb_image)\n",
    "    bw_img = np.dot(rgb_image[...,:3], [0.2989, 0.5870, 0.1140])\n",
    "    bw.append(bw_img)\n",
    "\n",
    "bw = np.array(bw)"
   ]
  },
  {
   "cell_type": "markdown",
   "id": "b0f2ebb9",
   "metadata": {},
   "source": [
    "### 2.2 Dividing the data set into two sets"
   ]
  },
  {
   "cell_type": "code",
   "execution_count": 33,
   "id": "d374cf4a",
   "metadata": {},
   "outputs": [],
   "source": [
    "#Dividing the dataset into training and testing set\n",
    "from sklearn.model_selection import train_test_split\n",
    "\n",
    "x_train, x_test = train_test_split(bw, test_size=0.3, random_state=42)\n",
    "y_train, y_test = train_test_split(y, test_size=0.3, random_state=42)\n",
    "\n",
    "x_train = x_train/255\n",
    "x_test = x_test/255\n",
    "\n",
    "y_train_one_hot = to_categorical(y_train, num_classes=10)\n",
    "y_test_one_hot = to_categorical(y_test, num_classes=10)"
   ]
  },
  {
   "cell_type": "markdown",
   "id": "faf8d070",
   "metadata": {},
   "source": [
    "### 2.3 Building the Convolutional Neural Network"
   ]
  },
  {
   "cell_type": "markdown",
   "metadata": {},
   "source": [
    "#### `About the architecture`\n",
    "\n",
    "1. **Feature extraction**\n",
    "    - **Number of Neurons in Input Layer**: The input layer consists of a single-channel image, with the number of neurons corresponding to the number of pixels in the image.\n",
    "\n",
    "    - **Number of Convolution and Pooling Layers**: There are 4 convolutional layers and 4 corresponding max-pooling layers.\n",
    "\n",
    "    - **Number of Features**: The last max-pooling layer before the fully connected layers produces 512 feature maps.\n",
    "\n",
    "2. **Classification**\n",
    "\n",
    "    - **Number of Neurons in Classification Input Layer**: The classification input layer consists of 512 neurons.\n",
    "\n",
    "    - **Number of Layers for Classification**: There are 2 fully connected layers for the classification task.\n",
    "\n",
    "    - **Number of Neurons in the Output Layer**: The output layer has 10 neurons, representing the 10 classes for classification.\n"
   ]
  },
  {
   "cell_type": "code",
   "execution_count": 34,
   "id": "319de9c3",
   "metadata": {},
   "outputs": [
    {
     "name": "stdout",
     "output_type": "stream",
     "text": [
      "Model: \"sequential_4\"\n",
      "_________________________________________________________________\n",
      " Layer (type)                Output Shape              Param #   \n",
      "=================================================================\n",
      " conv2d_16 (Conv2D)          (None, 30, 30, 64)        640       \n",
      "                                                                 \n",
      " max_pooling2d_16 (MaxPooli  (None, 15, 15, 64)        0         \n",
      " ng2D)                                                           \n",
      "                                                                 \n",
      " conv2d_17 (Conv2D)          (None, 15, 15, 128)       73856     \n",
      "                                                                 \n",
      " max_pooling2d_17 (MaxPooli  (None, 7, 7, 128)         0         \n",
      " ng2D)                                                           \n",
      "                                                                 \n",
      " conv2d_18 (Conv2D)          (None, 7, 7, 256)         295168    \n",
      "                                                                 \n",
      " max_pooling2d_18 (MaxPooli  (None, 3, 3, 256)         0         \n",
      " ng2D)                                                           \n",
      "                                                                 \n",
      " conv2d_19 (Conv2D)          (None, 3, 3, 512)         1180160   \n",
      "                                                                 \n",
      " max_pooling2d_19 (MaxPooli  (None, 1, 1, 512)         0         \n",
      " ng2D)                                                           \n",
      "                                                                 \n",
      " flatten_4 (Flatten)         (None, 512)               0         \n",
      "                                                                 \n",
      " dense_14 (Dense)            (None, 512)               262656    \n",
      "                                                                 \n",
      " dense_15 (Dense)            (None, 256)               131328    \n",
      "                                                                 \n",
      " dense_16 (Dense)            (None, 10)                2570      \n",
      "                                                                 \n",
      "=================================================================\n",
      "Total params: 1946378 (7.42 MB)\n",
      "Trainable params: 1946378 (7.42 MB)\n",
      "Non-trainable params: 0 (0.00 Byte)\n",
      "_________________________________________________________________\n"
     ]
    }
   ],
   "source": [
    "\n",
    "model = models.Sequential()\n",
    "\n",
    "model.add(layers.Conv2D(64, (3, 3), activation='relu', input_shape=(32, 32, 1)))\n",
    "model.add(layers.MaxPooling2D((2, 2)))\n",
    "model.add(layers.Conv2D(128, (3, 3), activation='relu',padding='same'))\n",
    "model.add(layers.MaxPooling2D((2, 2)))\n",
    "model.add(layers.Conv2D(256, (3, 3), activation='relu',padding='same'))\n",
    "model.add(layers.MaxPooling2D((2, 2)))\n",
    "model.add(layers.Conv2D(512, (3, 3), activation='relu',padding='same'))\n",
    "model.add(layers.MaxPooling2D((2, 2)))\n",
    "\n",
    "model.add(layers.Flatten())\n",
    "\n",
    "model.add(layers.Dense(512, activation='relu'))\n",
    "model.add(layers.Dense(256, activation='relu'))\n",
    "\n",
    "model.add(layers.Dense(10, activation='softmax'))\n",
    "\n",
    "model.summary()"
   ]
  },
  {
   "cell_type": "markdown",
   "id": "e9fb6473",
   "metadata": {},
   "source": [
    "### 2.3 Compiling the model and fitting it\n",
    " ##### Using the adam optimizer and categorical crossentropy and accuracy as the metric"
   ]
  },
  {
   "cell_type": "code",
   "execution_count": 35,
   "id": "f2f3e343",
   "metadata": {},
   "outputs": [
    {
     "name": "stdout",
     "output_type": "stream",
     "text": [
      "Epoch 1/10\n"
     ]
    },
    {
     "name": "stdout",
     "output_type": "stream",
     "text": [
      "175/175 [==============================] - 40s 214ms/step - loss: 2.1426 - accuracy: 0.1747 - val_loss: 1.9344 - val_accuracy: 0.2564 - lr: 0.0010\n",
      "Epoch 2/10\n",
      "175/175 [==============================] - 42s 239ms/step - loss: 1.8990 - accuracy: 0.2733 - val_loss: 1.9246 - val_accuracy: 0.2786 - lr: 0.0010\n",
      "Epoch 3/10\n",
      "175/175 [==============================] - 37s 208ms/step - loss: 1.7616 - accuracy: 0.3283 - val_loss: 1.6768 - val_accuracy: 0.3850 - lr: 0.0010\n",
      "Epoch 4/10\n",
      "175/175 [==============================] - 45s 260ms/step - loss: 1.6263 - accuracy: 0.3952 - val_loss: 1.6586 - val_accuracy: 0.3779 - lr: 0.0010\n",
      "Epoch 5/10\n",
      "175/175 [==============================] - 48s 272ms/step - loss: 1.5247 - accuracy: 0.4345 - val_loss: 1.6070 - val_accuracy: 0.4079 - lr: 0.0010\n",
      "Epoch 6/10\n",
      "175/175 [==============================] - 46s 264ms/step - loss: 1.4300 - accuracy: 0.4676 - val_loss: 1.5225 - val_accuracy: 0.4464 - lr: 9.0484e-04\n",
      "Epoch 7/10\n",
      "175/175 [==============================] - 45s 257ms/step - loss: 1.3002 - accuracy: 0.5154 - val_loss: 1.5224 - val_accuracy: 0.4529 - lr: 8.1873e-04\n",
      "Epoch 8/10\n",
      "175/175 [==============================] - 45s 255ms/step - loss: 1.2066 - accuracy: 0.5512 - val_loss: 1.5148 - val_accuracy: 0.4650 - lr: 7.4082e-04\n",
      "Epoch 9/10\n",
      "175/175 [==============================] - 43s 248ms/step - loss: 1.0870 - accuracy: 0.5987 - val_loss: 1.6003 - val_accuracy: 0.4443 - lr: 6.7032e-04\n",
      "Epoch 10/10\n",
      "175/175 [==============================] - 35s 201ms/step - loss: 0.9603 - accuracy: 0.6489 - val_loss: 1.5514 - val_accuracy: 0.4857 - lr: 6.0653e-04\n"
     ]
    }
   ],
   "source": [
    "from tensorflow.keras.callbacks import LearningRateScheduler, EarlyStopping\n",
    "\n",
    "# Learning rate scheduler function\n",
    "def schedule(epoch, lr):\n",
    "    if epoch < 5:\n",
    "        return lr\n",
    "    else:\n",
    "        return lr * tf.math.exp(-0.1)\n",
    "\n",
    "# Define the learning rate scheduler\n",
    "lr_scheduler = LearningRateScheduler(schedule)\n",
    "\n",
    "# Define early stopping criteria\n",
    "early_stopping = EarlyStopping(monitor='val_loss', patience=3, restore_best_weights=True)\n",
    "\n",
    "# Compile the model\n",
    "model.compile(optimizer='adam',\n",
    "              loss='categorical_crossentropy',\n",
    "              metrics=['accuracy'])\n",
    "\n",
    "# Fit the model with both learning rate scheduler and early stopping\n",
    "history = model.fit(x_train, y_train_one_hot, \n",
    "                    epochs=10, \n",
    "                    batch_size=32, \n",
    "                    validation_split=0.2,\n",
    "                    callbacks=[lr_scheduler, early_stopping])\n"
   ]
  },
  {
   "cell_type": "markdown",
   "id": "7061488b",
   "metadata": {},
   "source": [
    "### Plotting the graph for validation loss"
   ]
  },
  {
   "cell_type": "code",
   "execution_count": 36,
   "id": "0c2de438",
   "metadata": {},
   "outputs": [
    {
     "data": {
      "image/png": "[encoded data removed]",
      "text/plain": [
       "<Figure size 1200x400 with 2 Axes>"
      ]
     },
     "metadata": {},
     "output_type": "display_data"
    }
   ],
   "source": [
    "plt.figure(figsize=(12, 4))\n",
    "plt.subplot(1, 2, 1)\n",
    "plt.plot(history.history['loss'], color='red', label='Training Loss', marker='o')\n",
    "plt.title('Loss')\n",
    "plt.xlabel('Epoch')\n",
    "plt.ylabel('Loss')\n",
    "plt.legend()\n",
    "\n",
    "plt.subplot(1, 2, 2)\n",
    "plt.plot(history.history['val_loss'], color='blue', label='Validation Loss', marker='o')\n",
    "plt.title('Validation Loss')\n",
    "plt.xlabel('Epoch')\n",
    "plt.ylabel('Validation Loss')\n",
    "plt.legend()\n",
    "\n",
    "plt.tight_layout()\n",
    "plt.show()"
   ]
  },
  {
   "cell_type": "markdown",
   "id": "d1cca946",
   "metadata": {},
   "source": [
    "### 2.5 Testing Procedure\n",
    "Evaluating the classifier by the accuracy measurement on X_test.\n",
    "\n",
    "$$\n",
    "ACC_{D_{test}} = \\frac{1}{|D_{test}|} \\sum_{i=1}^{|D_{test}|} L(\\hat{y}_i, y_i)\n",
    "$$\n",
    "\n",
    "where $\\hat{y}_i$ is the assigned class label by the classifier and $y_i$ is the true class label of a data instance $x_i$ in $D_{test}$, and $|D_{test}|$ is the number of data instances in $D_{test}$.\n",
    "\n",
    "$L(\\hat{y}_i, y_i) = \\begin{cases} 1 & \\text{if } \\hat{y}_i = y_i \\\\ 0 & \\text{if } \\hat{y}_i \\neq y_i \\end{cases}$\n"
   ]
  },
  {
   "cell_type": "code",
   "execution_count": 37,
   "id": "d322b23f",
   "metadata": {},
   "outputs": [
    {
     "name": "stdout",
     "output_type": "stream",
     "text": [
      "94/94 [==============================] - 3s 32ms/step\n",
      "94/94 [==============================] - 3s 29ms/step - loss: 1.5630 - accuracy: 0.4867\n",
      "Loss: 1.5630030632019043\n",
      "Accuracy: 48.67%\n"
     ]
    }
   ],
   "source": [
    "# Predictions\n",
    "y_pred_probs = model.predict(x_test)\n",
    "y_pred_labels = np.argmax(y_pred_probs, axis=1)\n",
    "\n",
    "# Format predictions as DataFrame\n",
    "y_pred_labels = pd.DataFrame(y_pred_labels, columns=[\"Predicted_Label\"])\n",
    "\n",
    "# Align true labels with predicted labels\n",
    "y_test, y_pred_labels = y_test.align(y_pred_labels, axis=1)\n",
    "\n",
    "# Reset index for better presentation\n",
    "y_test = y_test.reset_index(drop=True)\n",
    "y_pred_labels = y_pred_labels.reset_index(drop=True)\n",
    "\n",
    "# Model evaluation\n",
    "loss, accuracy = model.evaluate(x_test, y_test_one_hot)\n",
    "print(f\"Loss: {loss}\")\n",
    "print(f\"Accuracy: {accuracy * 100:.2f}%\")\n"
   ]
  }
 ],
 "metadata": {
  "kernelspec": {
   "display_name": "Python 3 (ipykernel)",
   "language": "python",
   "name": "python3"
  },
  "language_info": {
   "codemirror_mode": {
    "name": "ipython",
    "version": 3
   },
   "file_extension": ".py",
   "mimetype": "text/x-python",
   "name": "python",
   "nbconvert_exporter": "python",
   "pygments_lexer": "ipython3",
   "version": "3.11.3"
  }
 },
 "nbformat": 4,
 "nbformat_minor": 5
}
