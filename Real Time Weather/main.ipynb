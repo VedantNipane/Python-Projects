{
 "cells": [
  {
   "cell_type": "markdown",
   "metadata": {},
   "source": [
    "# Real-Time Weather with Python\n"
   ]
  },
  {
   "cell_type": "markdown",
   "metadata": {},
   "source": [
    "### Importing Libraries"
   ]
  },
  {
   "cell_type": "code",
   "execution_count": 3,
   "metadata": {},
   "outputs": [],
   "source": [
    "import requests"
   ]
  },
  {
   "cell_type": "markdown",
   "metadata": {},
   "source": [
    "### `get_weather(city)`\n",
    "\n",
    "Fetches the current weather data for a specified city using the WeatherAPI.\n",
    "\n",
    "#### Parameters\n",
    "\n",
    "- `city` (str): The name of the city for which to retrieve weather data.\n",
    "\n",
    "#### Returns\n",
    "\n",
    "- str: A formatted string containing the location, temperature, and weather condition, or an error message if the request fails.\n"
   ]
  },
  {
   "cell_type": "code",
   "execution_count": null,
   "metadata": {},
   "outputs": [],
   "source": [
    "def get_weather(city):\n",
    "    api_key = \"5729bf53a98543bd829174143240806\"  # Replace with your WeatherAPI key\n",
    "    url = f\"http://api.weatherapi.com/v1/current.json?key={api_key}&q={city}\"\n",
    "    response = requests.get(url)\n",
    "    if response.status_code != 200:\n",
    "        return f\"Failed to get weather data for {city}. Status code: {response.status_code}\"\n",
    "    \n",
    "    data = response.json()\n",
    "    location = data['location']['name']\n",
    "    temperature = data['current']['temp_c']\n",
    "    weather_condition = data['current']['condition']['text']\n",
    "    return f\"Location: {location}\\nTemperature: {temperature}°C\\nCondition: {weather_condition}\"\n"
   ]
  },
  {
   "cell_type": "code",
   "execution_count": 7,
   "metadata": {},
   "outputs": [
    {
     "name": "stdout",
     "output_type": "stream",
     "text": [
      "Location: Multan\n",
      "Temperature: 32.3°C\n",
      "Condition: Mist\n"
     ]
    }
   ],
   "source": [
    "city = \"Multan\"  # Replace with the desired city\n",
    "print(get_weather(city))"
   ]
  },
  {
   "cell_type": "markdown",
   "metadata": {},
   "source": [
    "---\n",
    "---"
   ]
  }
 ],
 "metadata": {
  "kernelspec": {
   "display_name": "Python 3",
   "language": "python",
   "name": "python3"
  },
  "language_info": {
   "codemirror_mode": {
    "name": "ipython",
    "version": 3
   },
   "file_extension": ".py",
   "mimetype": "text/x-python",
   "name": "python",
   "nbconvert_exporter": "python",
   "pygments_lexer": "ipython3",
   "version": "3.11.3"
  }
 },
 "nbformat": 4,
 "nbformat_minor": 2
}
